{
 "cells": [
  {
   "cell_type": "markdown",
   "metadata": {},
   "source": [
    "## Comandos Básicos\n",
    "\n",
    "- `git init` : Empezar a trabajar con GIT en una carpeta\n",
    "- `git add (file)` : Agregar los archivos al **Stage**\n",
    "- `git status` : Ver el estado en el que se encuentra el/los archivos (modificados, archivos en **Stage**, etc...)\n",
    "- `git commit` : Hacer una \"versión\" del código, un punto de reestablecimiento o de guardado.\n",
    "- `git push` : Subirlo a un repositorio remoto\n",
    "- `git pull` : Traer los cambios de los otros desarrolladores (descargar el código del repositorio remoto)\n",
    "- `git clone` : Hacer una copia del servidor remoto al computador propio\n",
    "\n"
   ]
  },
  {
   "cell_type": "markdown",
   "metadata": {},
   "source": [
    "## Practica\n",
    "\n",
    "Inicializamos el proyecto con `git init`, crea una carpeta .git oculata.\n",
    "\n",
    "`gir status` Revisamos que archivos tenemos listos para pasar a **Stage**\n",
    "\n",
    "<img src =\"img/Screenshot_1.png\">\n",
    "\n",
    "Añadimos los archivos al **Stage** `git add (file) (file)`\n",
    "\n",
    "<img src =\"img/Screenshot_2.png\">\n",
    "\n"
   ]
  },
  {
   "cell_type": "markdown",
   "metadata": {},
   "source": []
  }
 ],
 "metadata": {
  "language_info": {
   "name": "python"
  },
  "orig_nbformat": 4
 },
 "nbformat": 4,
 "nbformat_minor": 2
}
